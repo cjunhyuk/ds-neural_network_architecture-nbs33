{
 "cells": [
  {
   "cell_type": "markdown",
   "metadata": {
    "slideshow": {
     "slide_type": "slide"
    }
   },
   "source": [
    "# Regularization and Evaluation of Neural Networks"
   ]
  },
  {
   "cell_type": "code",
   "execution_count": 1,
   "metadata": {},
   "outputs": [],
   "source": [
    "from sklearn.datasets import load_sample_images\n",
    "from sklearn.datasets import load_digits\n",
    "from sklearn.model_selection import train_test_split, cross_val_score\n",
    "from sklearn.preprocessing import OneHotEncoder\n",
    "from sklearn.metrics import accuracy_score, confusion_matrix\n",
    "import matplotlib.pyplot as plt\n",
    "import matplotlib.image as mpimg\n",
    "import numpy as np\n",
    "import seaborn as sns\n",
    "\n",
    "from tensorflow.keras.models import Sequential\n",
    "from tensorflow.keras.layers import Dense, Dropout\n",
    "from tensorflow.keras.regularizers import l2\n",
    "from tensorflow.keras.optimizers import SGD\n",
    "from tensorflow.keras.wrappers import scikit_learn\n",
    "from tensorflow.keras.callbacks import EarlyStopping\n",
    "\n",
    "import os\n",
    "import sys\n",
    "module_path = os.path.abspath(os.path.join(os.pardir, os.pardir))\n",
    "if module_path not in sys.path:\n",
    "    sys.path.append(module_path)\n",
    "    \n",
    "%load_ext autoreload\n",
    "%autoreload 2"
   ]
  },
  {
   "cell_type": "markdown",
   "metadata": {},
   "source": [
    "## Learning Objectives\n",
    "\n",
    "- use `keras` to code up a neural network model;\n",
    "- explain dropout and early stopping as distinctive forms of regularization in neural networks;\n",
    "- use wrappers inside `keras` to make models that can jibe with `sklearn`."
   ]
  },
  {
   "cell_type": "markdown",
   "metadata": {},
   "source": [
    "### From last time"
   ]
  },
  {
   "cell_type": "code",
   "execution_count": 6,
   "metadata": {},
   "outputs": [],
   "source": [
    "digits = load_digits()\n",
    "X = digits.data.astype('float32')\n",
    "y = digits.target.astype('float32')\n",
    "\n",
    "y_binary = y % 2"
   ]
  },
  {
   "cell_type": "code",
   "execution_count": 7,
   "metadata": {},
   "outputs": [
    {
     "name": "stdout",
     "output_type": "stream",
     "text": [
      "Epoch 1/50\n",
      "180/180 [==============================] - 0s 456us/step - loss: 0.6629 - accuracy: 0.7117\n",
      "Epoch 2/50\n",
      "180/180 [==============================] - 0s 417us/step - loss: 0.2800 - accuracy: 0.8742\n",
      "Epoch 3/50\n",
      "180/180 [==============================] - 0s 422us/step - loss: 0.2052 - accuracy: 0.9149\n",
      "Epoch 4/50\n",
      "180/180 [==============================] - 0s 421us/step - loss: 0.1512 - accuracy: 0.9393\n",
      "Epoch 5/50\n",
      "180/180 [==============================] - 0s 401us/step - loss: 0.1222 - accuracy: 0.9471\n",
      "Epoch 6/50\n",
      "180/180 [==============================] - 0s 401us/step - loss: 0.1070 - accuracy: 0.9572\n",
      "Epoch 7/50\n",
      "180/180 [==============================] - 0s 399us/step - loss: 0.0911 - accuracy: 0.9627\n",
      "Epoch 8/50\n",
      "180/180 [==============================] - 0s 380us/step - loss: 0.0829 - accuracy: 0.9661\n",
      "Epoch 9/50\n",
      "180/180 [==============================] - 0s 369us/step - loss: 0.0698 - accuracy: 0.9727\n",
      "Epoch 10/50\n",
      "180/180 [==============================] - 0s 391us/step - loss: 0.0635 - accuracy: 0.9777\n",
      "Epoch 11/50\n",
      "180/180 [==============================] - 0s 372us/step - loss: 0.0594 - accuracy: 0.9755\n",
      "Epoch 12/50\n",
      "180/180 [==============================] - 0s 369us/step - loss: 0.0541 - accuracy: 0.9822\n",
      "Epoch 13/50\n",
      "180/180 [==============================] - 0s 366us/step - loss: 0.0520 - accuracy: 0.9850\n",
      "Epoch 14/50\n",
      "180/180 [==============================] - 0s 364us/step - loss: 0.0485 - accuracy: 0.9844\n",
      "Epoch 15/50\n",
      "180/180 [==============================] - 0s 396us/step - loss: 0.0461 - accuracy: 0.9855\n",
      "Epoch 16/50\n",
      "180/180 [==============================] - 0s 391us/step - loss: 0.0426 - accuracy: 0.9855\n",
      "Epoch 17/50\n",
      "180/180 [==============================] - 0s 380us/step - loss: 0.0358 - accuracy: 0.9900\n",
      "Epoch 18/50\n",
      "180/180 [==============================] - 0s 374us/step - loss: 0.0350 - accuracy: 0.9889\n",
      "Epoch 19/50\n",
      "180/180 [==============================] - 0s 374us/step - loss: 0.0337 - accuracy: 0.9917\n",
      "Epoch 20/50\n",
      "180/180 [==============================] - 0s 374us/step - loss: 0.0315 - accuracy: 0.9928\n",
      "Epoch 21/50\n",
      "180/180 [==============================] - 0s 364us/step - loss: 0.0273 - accuracy: 0.9900\n",
      "Epoch 22/50\n",
      "180/180 [==============================] - 0s 358us/step - loss: 0.0247 - accuracy: 0.9933\n",
      "Epoch 23/50\n",
      "180/180 [==============================] - 0s 358us/step - loss: 0.0211 - accuracy: 0.9939\n",
      "Epoch 24/50\n",
      "180/180 [==============================] - 0s 364us/step - loss: 0.0207 - accuracy: 0.9944\n",
      "Epoch 25/50\n",
      "180/180 [==============================] - 0s 374us/step - loss: 0.0183 - accuracy: 0.9950\n",
      "Epoch 26/50\n",
      "180/180 [==============================] - 0s 361us/step - loss: 0.0179 - accuracy: 0.9967\n",
      "Epoch 27/50\n",
      "180/180 [==============================] - 0s 353us/step - loss: 0.0185 - accuracy: 0.9950\n",
      "Epoch 28/50\n",
      "180/180 [==============================] - 0s 374us/step - loss: 0.0138 - accuracy: 0.9944\n",
      "Epoch 29/50\n",
      "180/180 [==============================] - 0s 372us/step - loss: 0.0131 - accuracy: 0.9961\n",
      "Epoch 30/50\n",
      "180/180 [==============================] - 0s 377us/step - loss: 0.0103 - accuracy: 0.9967\n",
      "Epoch 31/50\n",
      "180/180 [==============================] - 0s 418us/step - loss: 0.0124 - accuracy: 0.9961\n",
      "Epoch 32/50\n",
      "180/180 [==============================] - 0s 391us/step - loss: 0.0098 - accuracy: 0.9978\n",
      "Epoch 33/50\n",
      "180/180 [==============================] - 0s 380us/step - loss: 0.0105 - accuracy: 0.9967\n",
      "Epoch 34/50\n",
      "180/180 [==============================] - 0s 373us/step - loss: 0.0081 - accuracy: 0.9978\n",
      "Epoch 35/50\n",
      "180/180 [==============================] - 0s 389us/step - loss: 0.0071 - accuracy: 0.9983\n",
      "Epoch 36/50\n",
      "180/180 [==============================] - 0s 385us/step - loss: 0.0080 - accuracy: 0.9972\n",
      "Epoch 37/50\n",
      "180/180 [==============================] - 0s 399us/step - loss: 0.0057 - accuracy: 0.9983\n",
      "Epoch 38/50\n",
      "180/180 [==============================] - 0s 391us/step - loss: 0.0065 - accuracy: 0.9983\n",
      "Epoch 39/50\n",
      "180/180 [==============================] - 0s 390us/step - loss: 0.0060 - accuracy: 0.9983\n",
      "Epoch 40/50\n",
      "180/180 [==============================] - 0s 401us/step - loss: 0.0066 - accuracy: 0.9978\n",
      "Epoch 41/50\n",
      "180/180 [==============================] - 0s 380us/step - loss: 0.0048 - accuracy: 0.9994\n",
      "Epoch 42/50\n",
      "180/180 [==============================] - 0s 380us/step - loss: 0.0062 - accuracy: 0.9983\n",
      "Epoch 43/50\n",
      "180/180 [==============================] - 0s 391us/step - loss: 0.0060 - accuracy: 0.9983\n",
      "Epoch 44/50\n",
      "180/180 [==============================] - 0s 391us/step - loss: 0.0046 - accuracy: 0.9989\n",
      "Epoch 45/50\n",
      "180/180 [==============================] - 0s 391us/step - loss: 0.0047 - accuracy: 0.9978\n",
      "Epoch 46/50\n",
      "180/180 [==============================] - 0s 401us/step - loss: 0.0071 - accuracy: 0.9983\n",
      "Epoch 47/50\n",
      "180/180 [==============================] - 0s 388us/step - loss: 0.0049 - accuracy: 0.9983\n",
      "Epoch 48/50\n",
      "180/180 [==============================] - 0s 372us/step - loss: 0.0043 - accuracy: 0.9989\n",
      "Epoch 49/50\n",
      "180/180 [==============================] - 0s 377us/step - loss: 0.0023 - accuracy: 0.9994\n",
      "Epoch 50/50\n",
      "180/180 [==============================] - 0s 399us/step - loss: 0.0042 - accuracy: 0.9989\n"
     ]
    },
    {
     "data": {
      "text/plain": [
       "<tensorflow.python.keras.callbacks.History at 0x156636b0c40>"
      ]
     },
     "execution_count": 7,
     "metadata": {},
     "output_type": "execute_result"
    }
   ],
   "source": [
    "model = Sequential()\n",
    "model.add(Dense(12, activation='relu', input_dim=64))\n",
    "model.add(Dense(8, activation='relu'))\n",
    "model.add(Dense(1, activation='sigmoid'))\n",
    "\n",
    "model.compile(optimizer='rmsprop',\n",
    "              loss='binary_crossentropy',\n",
    "              metrics=['accuracy'])\n",
    "\n",
    "model.fit(X, y_binary, epochs=50, batch_size=10)"
   ]
  },
  {
   "cell_type": "markdown",
   "metadata": {},
   "source": [
    "### Things to know:\n",
    "\n",
    "- The data and labels in `fit()` need to be numpy arrays, not `pandas` dfs.\n",
    "- Scaling your data will have a large impact on your model.\n",
    "   > For our traditional input features, we would use a scaler object. For images, as long as the minimum value is 0, we can simply divide through by the maximum pixel intensity."
   ]
  },
  {
   "cell_type": "markdown",
   "metadata": {},
   "source": [
    "#### Getting data ready for modeling\n",
    "**Preprocessing**:\n",
    "\n",
    "- use train_test_split to create X_train, y_train, X_test, and y_test\n",
    "- Split training data into pure_train and validation sets.\n",
    "- Scale the pixel intensity to a value between 0 and 1."
   ]
  },
  {
   "cell_type": "markdown",
   "metadata": {},
   "source": [
    "Scaling our input variables will help speed up our neural network.\n",
    "\n",
    "Since our minimum intensity is 0, we can normalize the inputs by dividing each value by the max value (16)."
   ]
  },
  {
   "cell_type": "code",
   "execution_count": 8,
   "metadata": {},
   "outputs": [],
   "source": [
    "X_train, X_test, y_train, y_test =\\\n",
    "    train_test_split(X, y_binary, random_state=42, test_size=0.2)\n",
    "\n",
    "X_pure_train, X_val, y_pure_train, y_val =\\\n",
    "    train_test_split(X_train, y_train, random_state=42, test_size=0.2)\n",
    "\n",
    "X_pure_train, X_val, X_test = X_pure_train/16, X_val/16, X_test/16"
   ]
  },
  {
   "cell_type": "markdown",
   "metadata": {},
   "source": [
    "For activation, let's start with the familiar sigmoid function, and see how it performs."
   ]
  },
  {
   "cell_type": "code",
   "execution_count": 9,
   "metadata": {},
   "outputs": [
    {
     "name": "stdout",
     "output_type": "stream",
     "text": [
      "Epoch 1/10\n",
      "12/12 [==============================] - 0s 488us/step - loss: 0.6978 - accuracy: 0.5048\n",
      "Epoch 2/10\n",
      "12/12 [==============================] - 0s 405us/step - loss: 0.6976 - accuracy: 0.4935\n",
      "Epoch 3/10\n",
      "12/12 [==============================] - 0s 407us/step - loss: 0.6973 - accuracy: 0.4900\n",
      "Epoch 4/10\n",
      "12/12 [==============================] - 0s 407us/step - loss: 0.6972 - accuracy: 0.4865\n",
      "Epoch 5/10\n",
      "12/12 [==============================] - 0s 325us/step - loss: 0.6969 - accuracy: 0.4874\n",
      "Epoch 6/10\n",
      "12/12 [==============================] - 0s 423us/step - loss: 0.6967 - accuracy: 0.4830\n",
      "Epoch 7/10\n",
      "12/12 [==============================] - 0s 326us/step - loss: 0.6966 - accuracy: 0.4795\n",
      "Epoch 8/10\n",
      "12/12 [==============================] - 0s 407us/step - loss: 0.6964 - accuracy: 0.4778\n",
      "Epoch 9/10\n",
      "12/12 [==============================] - 0s 325us/step - loss: 0.6962 - accuracy: 0.4830\n",
      "Epoch 10/10\n",
      "12/12 [==============================] - 0s 407us/step - loss: 0.6959 - accuracy: 0.4769\n"
     ]
    }
   ],
   "source": [
    "model = Sequential()\n",
    "# We will start with our trusty sigmoid function.\n",
    "# What does input dimension correspond to?\n",
    "model.add(Dense(12, activation='sigmoid', input_dim=64))\n",
    "model.add(Dense(8, activation='sigmoid'))\n",
    "model.add(Dense(1, activation='sigmoid'))\n",
    "\n",
    "model.compile(optimizer='SGD' ,\n",
    "              # We use binary_crossentropy for a binary loss function\n",
    "              loss='binary_crossentropy',\n",
    "              metrics=['accuracy'])\n",
    "\n",
    "# Assign the variable history to store the results,\n",
    "# and set verbose=1 so we can see the output. To see\n",
    "# only the metrics at the end of each epoch, set verbose=2.\n",
    "results = model.fit(X_pure_train, y_pure_train, epochs=10, batch_size=100, verbose=1)"
   ]
  },
  {
   "cell_type": "markdown",
   "metadata": {},
   "source": [
    "We can access the history of our model via `results.history`.\n",
    "Use __dict__ to take a tour."
   ]
  },
  {
   "cell_type": "code",
   "execution_count": 10,
   "metadata": {},
   "outputs": [
    {
     "data": {
      "text/plain": [
       "{'validation_data': None,\n",
       " 'model': <tensorflow.python.keras.engine.sequential.Sequential at 0x15663ba69a0>,\n",
       " '_chief_worker_only': None,\n",
       " '_supports_tf_logs': False,\n",
       " 'history': {'loss': [0.6978380680084229,\n",
       "   0.6975914835929871,\n",
       "   0.6973462104797363,\n",
       "   0.6971673369407654,\n",
       "   0.6969406008720398,\n",
       "   0.6967374682426453,\n",
       "   0.696550726890564,\n",
       "   0.6963827610015869,\n",
       "   0.6961539387702942,\n",
       "   0.6959342956542969],\n",
       "  'accuracy': [0.5047867894172668,\n",
       "   0.4934725761413574,\n",
       "   0.48999130725860596,\n",
       "   0.4865100085735321,\n",
       "   0.48738032579421997,\n",
       "   0.48302870988845825,\n",
       "   0.4795474410057068,\n",
       "   0.47780677676200867,\n",
       "   0.48302870988845825,\n",
       "   0.4769364595413208]},\n",
       " 'params': {'verbose': 1, 'epochs': 10, 'steps': 12},\n",
       " 'epoch': [0, 1, 2, 3, 4, 5, 6, 7, 8, 9]}"
      ]
     },
     "execution_count": 10,
     "metadata": {},
     "output_type": "execute_result"
    }
   ],
   "source": [
    "results.__dict__"
   ]
  },
  {
   "cell_type": "code",
   "execution_count": 11,
   "metadata": {},
   "outputs": [
    {
     "data": {
      "image/png": "[encoded data removed]",
      "text/plain": [
       "<Figure size 720x360 with 2 Axes>"
      ]
     },
     "metadata": {
      "needs_background": "light"
     },
     "output_type": "display_data"
    }
   ],
   "source": [
    "sigmoid_loss = results.history['loss']\n",
    "sigmoid_accuracy = results.history['accuracy']\n",
    "\n",
    "fig, (ax1, ax2) = plt.subplots(1, 2, figsize=(10, 5))\n",
    "sns.lineplot(x=results.epoch, y=sigmoid_loss, ax=ax1, label='loss')\n",
    "sns.lineplot(x=results.epoch, y=sigmoid_accuracy, ax=ax2, label='accuracy');"
   ]
  },
  {
   "cell_type": "markdown",
   "metadata": {},
   "source": [
    "We have two plots above both relating to the quality of our model.  The left-hand plot is our loss. It uses the probabilities associated with our predictions to judge how well our prediction fits reality. We want it to decrease as far as possible.\n",
    "\n",
    "The accuracy judges how well the predictions are after applying the threshold at the output layer.  We want accuracy to increase."
   ]
  },
  {
   "cell_type": "markdown",
   "metadata": {},
   "source": [
    "If we look at our loss, it is still decreasing. That is a signal that our model is **still learning**. If our model is still learning, we can allow it to get better by turning a few dials.\n",
    "\n",
    "Let's:\n",
    "- increase the number of epochs;\n",
    "- change sigmoid activation in the hidden layers to ReLU; and\n",
    "- decrease the batch size."
   ]
  },
  {
   "cell_type": "code",
   "execution_count": 12,
   "metadata": {},
   "outputs": [
    {
     "data": {
      "text/plain": [
       "1149"
      ]
     },
     "execution_count": 12,
     "metadata": {},
     "output_type": "execute_result"
    }
   ],
   "source": [
    "X_pure_train.shape[0]"
   ]
  },
  {
   "cell_type": "code",
   "execution_count": 13,
   "metadata": {},
   "outputs": [
    {
     "name": "stdout",
     "output_type": "stream",
     "text": [
      "Epoch 1/100\n",
      "36/36 [==============================] - 0s 434us/step - loss: 0.7658 - accuracy: 0.3925\n",
      "Epoch 2/100\n",
      "36/36 [==============================] - 0s 407us/step - loss: 0.7294 - accuracy: 0.4317\n",
      "Epoch 3/100\n",
      "36/36 [==============================] - 0s 380us/step - loss: 0.7075 - accuracy: 0.4848\n",
      "Epoch 4/100\n",
      "36/36 [==============================] - 0s 326us/step - loss: 0.6910 - accuracy: 0.5483\n",
      "Epoch 5/100\n",
      "36/36 [==============================] - 0s 380us/step - loss: 0.6749 - accuracy: 0.6275\n",
      "Epoch 6/100\n",
      "36/36 [==============================] - 0s 380us/step - loss: 0.6580 - accuracy: 0.6580\n",
      "Epoch 7/100\n",
      "36/36 [==============================] - 0s 326us/step - loss: 0.6402 - accuracy: 0.6884\n",
      "Epoch 8/100\n",
      "36/36 [==============================] - 0s 392us/step - loss: 0.6213 - accuracy: 0.7145\n",
      "Epoch 9/100\n",
      "36/36 [==============================] - 0s 367us/step - loss: 0.6000 - accuracy: 0.7337\n",
      "Epoch 10/100\n",
      "36/36 [==============================] - 0s 380us/step - loss: 0.5763 - accuracy: 0.7685\n",
      "Epoch 11/100\n",
      "36/36 [==============================] - 0s 380us/step - loss: 0.5510 - accuracy: 0.7815\n",
      "Epoch 12/100\n",
      "36/36 [==============================] - 0s 434us/step - loss: 0.5233 - accuracy: 0.8103\n",
      "Epoch 13/100\n",
      "36/36 [==============================] - 0s 407us/step - loss: 0.4953 - accuracy: 0.8233\n",
      "Epoch 14/100\n",
      "36/36 [==============================] - 0s 407us/step - loss: 0.4684 - accuracy: 0.8381\n",
      "Epoch 15/100\n",
      "36/36 [==============================] - 0s 395us/step - loss: 0.4426 - accuracy: 0.8451\n",
      "Epoch 16/100\n",
      "36/36 [==============================] - 0s 397us/step - loss: 0.4189 - accuracy: 0.8486\n",
      "Epoch 17/100\n",
      "36/36 [==============================] - 0s 380us/step - loss: 0.3980 - accuracy: 0.8573\n",
      "Epoch 18/100\n",
      "36/36 [==============================] - 0s 407us/step - loss: 0.3785 - accuracy: 0.8703\n",
      "Epoch 19/100\n",
      "36/36 [==============================] - 0s 397us/step - loss: 0.3607 - accuracy: 0.8738\n",
      "Epoch 20/100\n",
      "36/36 [==============================] - 0s 380us/step - loss: 0.3449 - accuracy: 0.8782\n",
      "Epoch 21/100\n",
      "36/36 [==============================] - 0s 353us/step - loss: 0.3307 - accuracy: 0.8834\n",
      "Epoch 22/100\n",
      "36/36 [==============================] - 0s 380us/step - loss: 0.3187 - accuracy: 0.8842\n",
      "Epoch 23/100\n",
      "36/36 [==============================] - 0s 380us/step - loss: 0.3070 - accuracy: 0.8912\n",
      "Epoch 24/100\n",
      "36/36 [==============================] - 0s 353us/step - loss: 0.2974 - accuracy: 0.8860\n",
      "Epoch 25/100\n",
      "36/36 [==============================] - 0s 369us/step - loss: 0.2879 - accuracy: 0.8938\n",
      "Epoch 26/100\n",
      "36/36 [==============================] - 0s 377us/step - loss: 0.2806 - accuracy: 0.8877\n",
      "Epoch 27/100\n",
      "36/36 [==============================] - 0s 380us/step - loss: 0.2733 - accuracy: 0.8895\n",
      "Epoch 28/100\n",
      "36/36 [==============================] - 0s 395us/step - loss: 0.2669 - accuracy: 0.8912\n",
      "Epoch 29/100\n",
      "36/36 [==============================] - 0s 380us/step - loss: 0.2607 - accuracy: 0.8921\n",
      "Epoch 30/100\n",
      "36/36 [==============================] - 0s 368us/step - loss: 0.2550 - accuracy: 0.8956\n",
      "Epoch 31/100\n",
      "36/36 [==============================] - 0s 380us/step - loss: 0.2490 - accuracy: 0.8947\n",
      "Epoch 32/100\n",
      "36/36 [==============================] - 0s 380us/step - loss: 0.2455 - accuracy: 0.8982\n",
      "Epoch 33/100\n",
      "36/36 [==============================] - 0s 380us/step - loss: 0.2405 - accuracy: 0.8973\n",
      "Epoch 34/100\n",
      "36/36 [==============================] - 0s 353us/step - loss: 0.2366 - accuracy: 0.9008\n",
      "Epoch 35/100\n",
      "36/36 [==============================] - 0s 380us/step - loss: 0.2339 - accuracy: 0.9008\n",
      "Epoch 36/100\n",
      "36/36 [==============================] - 0s 461us/step - loss: 0.2284 - accuracy: 0.9069\n",
      "Epoch 37/100\n",
      "36/36 [==============================] - 0s 407us/step - loss: 0.2258 - accuracy: 0.9069\n",
      "Epoch 38/100\n",
      "36/36 [==============================] - 0s 380us/step - loss: 0.2228 - accuracy: 0.9025\n",
      "Epoch 39/100\n",
      "36/36 [==============================] - 0s 353us/step - loss: 0.2197 - accuracy: 0.9077\n",
      "Epoch 40/100\n",
      "36/36 [==============================] - 0s 353us/step - loss: 0.2174 - accuracy: 0.9060\n",
      "Epoch 41/100\n",
      "36/36 [==============================] - 0s 380us/step - loss: 0.2155 - accuracy: 0.9077\n",
      "Epoch 42/100\n",
      "36/36 [==============================] - 0s 380us/step - loss: 0.2117 - accuracy: 0.9112\n",
      "Epoch 43/100\n",
      "36/36 [==============================] - 0s 380us/step - loss: 0.2083 - accuracy: 0.9095\n",
      "Epoch 44/100\n",
      "36/36 [==============================] - 0s 407us/step - loss: 0.2073 - accuracy: 0.9147\n",
      "Epoch 45/100\n",
      "36/36 [==============================] - 0s 353us/step - loss: 0.2041 - accuracy: 0.9173\n",
      "Epoch 46/100\n",
      "36/36 [==============================] - 0s 407us/step - loss: 0.2023 - accuracy: 0.9147\n",
      "Epoch 47/100\n",
      "36/36 [==============================] - 0s 326us/step - loss: 0.2005 - accuracy: 0.9164\n",
      "Epoch 48/100\n",
      "36/36 [==============================] - 0s 353us/step - loss: 0.1987 - accuracy: 0.9130\n",
      "Epoch 49/100\n",
      "36/36 [==============================] - 0s 380us/step - loss: 0.1966 - accuracy: 0.9164\n",
      "Epoch 50/100\n",
      "36/36 [==============================] - 0s 353us/step - loss: 0.1940 - accuracy: 0.9173\n",
      "Epoch 51/100\n",
      "36/36 [==============================] - 0s 353us/step - loss: 0.1928 - accuracy: 0.9208\n",
      "Epoch 52/100\n",
      "36/36 [==============================] - 0s 380us/step - loss: 0.1904 - accuracy: 0.9164\n",
      "Epoch 53/100\n",
      "36/36 [==============================] - 0s 380us/step - loss: 0.1882 - accuracy: 0.9199\n",
      "Epoch 54/100\n",
      "36/36 [==============================] - 0s 407us/step - loss: 0.1874 - accuracy: 0.9217\n",
      "Epoch 55/100\n",
      "36/36 [==============================] - 0s 380us/step - loss: 0.1868 - accuracy: 0.9173\n",
      "Epoch 56/100\n",
      "36/36 [==============================] - 0s 380us/step - loss: 0.1846 - accuracy: 0.9225\n",
      "Epoch 57/100\n",
      "36/36 [==============================] - 0s 407us/step - loss: 0.1820 - accuracy: 0.9182\n",
      "Epoch 58/100\n",
      "36/36 [==============================] - 0s 353us/step - loss: 0.1806 - accuracy: 0.9225\n",
      "Epoch 59/100\n",
      "36/36 [==============================] - 0s 380us/step - loss: 0.1797 - accuracy: 0.9208\n",
      "Epoch 60/100\n",
      "36/36 [==============================] - 0s 368us/step - loss: 0.1779 - accuracy: 0.9243\n",
      "Epoch 61/100\n",
      "36/36 [==============================] - 0s 380us/step - loss: 0.1763 - accuracy: 0.9243\n",
      "Epoch 62/100\n",
      "36/36 [==============================] - 0s 380us/step - loss: 0.1740 - accuracy: 0.9208\n",
      "Epoch 63/100\n",
      "36/36 [==============================] - 0s 379us/step - loss: 0.1740 - accuracy: 0.9217\n",
      "Epoch 64/100\n",
      "36/36 [==============================] - 0s 380us/step - loss: 0.1705 - accuracy: 0.9269\n",
      "Epoch 65/100\n",
      "36/36 [==============================] - 0s 353us/step - loss: 0.1699 - accuracy: 0.9243\n",
      "Epoch 66/100\n",
      "36/36 [==============================] - 0s 353us/step - loss: 0.1705 - accuracy: 0.9208\n",
      "Epoch 67/100\n",
      "36/36 [==============================] - 0s 361us/step - loss: 0.1676 - accuracy: 0.9252\n",
      "Epoch 68/100\n",
      "36/36 [==============================] - 0s 380us/step - loss: 0.1670 - accuracy: 0.9252\n",
      "Epoch 69/100\n",
      "36/36 [==============================] - 0s 326us/step - loss: 0.1657 - accuracy: 0.9269\n",
      "Epoch 70/100\n",
      "36/36 [==============================] - 0s 407us/step - loss: 0.1640 - accuracy: 0.9234\n",
      "Epoch 71/100\n",
      "36/36 [==============================] - 0s 434us/step - loss: 0.1630 - accuracy: 0.9286\n",
      "Epoch 72/100\n",
      "36/36 [==============================] - 0s 368us/step - loss: 0.1609 - accuracy: 0.9260\n",
      "Epoch 73/100\n",
      "36/36 [==============================] - 0s 353us/step - loss: 0.1606 - accuracy: 0.9269\n",
      "Epoch 74/100\n",
      "36/36 [==============================] - 0s 380us/step - loss: 0.1590 - accuracy: 0.9321\n",
      "Epoch 75/100\n",
      "36/36 [==============================] - 0s 380us/step - loss: 0.1591 - accuracy: 0.9295\n",
      "Epoch 76/100\n",
      "36/36 [==============================] - 0s 380us/step - loss: 0.1563 - accuracy: 0.9304\n",
      "Epoch 77/100\n",
      "36/36 [==============================] - 0s 380us/step - loss: 0.1552 - accuracy: 0.9295\n",
      "Epoch 78/100\n",
      "36/36 [==============================] - 0s 353us/step - loss: 0.1553 - accuracy: 0.9278\n",
      "Epoch 79/100\n",
      "36/36 [==============================] - 0s 417us/step - loss: 0.1532 - accuracy: 0.9304\n",
      "Epoch 80/100\n",
      "36/36 [==============================] - 0s 353us/step - loss: 0.1511 - accuracy: 0.9321\n",
      "Epoch 81/100\n"
     ]
    },
    {
     "name": "stdout",
     "output_type": "stream",
     "text": [
      "36/36 [==============================] - 0s 380us/step - loss: 0.1508 - accuracy: 0.9312\n",
      "Epoch 82/100\n",
      "36/36 [==============================] - 0s 380us/step - loss: 0.1484 - accuracy: 0.9321\n",
      "Epoch 83/100\n",
      "36/36 [==============================] - 0s 407us/step - loss: 0.1503 - accuracy: 0.9312\n",
      "Epoch 84/100\n",
      "36/36 [==============================] - 0s 326us/step - loss: 0.1466 - accuracy: 0.9330\n",
      "Epoch 85/100\n",
      "36/36 [==============================] - 0s 326us/step - loss: 0.1448 - accuracy: 0.9391\n",
      "Epoch 86/100\n",
      "36/36 [==============================] - 0s 407us/step - loss: 0.1443 - accuracy: 0.9382\n",
      "Epoch 87/100\n",
      "36/36 [==============================] - 0s 325us/step - loss: 0.1431 - accuracy: 0.9356\n",
      "Epoch 88/100\n",
      "36/36 [==============================] - 0s 380us/step - loss: 0.1424 - accuracy: 0.9417\n",
      "Epoch 89/100\n",
      "36/36 [==============================] - 0s 353us/step - loss: 0.1392 - accuracy: 0.9399\n",
      "Epoch 90/100\n",
      "36/36 [==============================] - 0s 380us/step - loss: 0.1402 - accuracy: 0.9382\n",
      "Epoch 91/100\n",
      "36/36 [==============================] - 0s 353us/step - loss: 0.1384 - accuracy: 0.9373\n",
      "Epoch 92/100\n",
      "36/36 [==============================] - 0s 353us/step - loss: 0.1383 - accuracy: 0.9391\n",
      "Epoch 93/100\n",
      "36/36 [==============================] - 0s 346us/step - loss: 0.1365 - accuracy: 0.9399\n",
      "Epoch 94/100\n",
      "36/36 [==============================] - 0s 353us/step - loss: 0.1344 - accuracy: 0.9408\n",
      "Epoch 95/100\n",
      "36/36 [==============================] - 0s 353us/step - loss: 0.1341 - accuracy: 0.9391\n",
      "Epoch 96/100\n",
      "36/36 [==============================] - 0s 353us/step - loss: 0.1326 - accuracy: 0.9434\n",
      "Epoch 97/100\n",
      "36/36 [==============================] - 0s 380us/step - loss: 0.1306 - accuracy: 0.9434\n",
      "Epoch 98/100\n",
      "36/36 [==============================] - 0s 380us/step - loss: 0.1304 - accuracy: 0.9434\n",
      "Epoch 99/100\n",
      "36/36 [==============================] - 0s 407us/step - loss: 0.1284 - accuracy: 0.9443\n",
      "Epoch 100/100\n",
      "36/36 [==============================] - 0s 353us/step - loss: 0.1269 - accuracy: 0.9434\n"
     ]
    }
   ],
   "source": [
    "model = Sequential()\n",
    "model.add(Dense(12, activation='relu', input_dim=64))\n",
    "model.add(Dense(8, activation='relu'))\n",
    "model.add(Dense(1, activation='sigmoid'))\n",
    "\n",
    "model.compile(optimizer='SGD',\n",
    "              loss='binary_crossentropy',\n",
    "              metrics=['accuracy'])\n",
    "\n",
    "# Assign the variable history to store the results,\n",
    "# and set verbose=1 so we can see the output.\n",
    "results = model.fit(X_pure_train, y_pure_train, epochs=100, batch_size=None, verbose=1)"
   ]
  },
  {
   "cell_type": "code",
   "execution_count": 14,
   "metadata": {},
   "outputs": [
    {
     "data": {
      "image/png": "[encoded data removed]",
      "text/plain": [
       "<Figure size 720x360 with 2 Axes>"
      ]
     },
     "metadata": {
      "needs_background": "light"
     },
     "output_type": "display_data"
    }
   ],
   "source": [
    "sigmoid_loss = results.history['loss']\n",
    "sigmoid_accuracy = results.history['accuracy']\n",
    "\n",
    "fig, (ax1, ax2) = plt.subplots(1, 2, figsize=(10, 5))\n",
    "sns.lineplot(x=results.epoch, y=sigmoid_loss, ax=ax1, label='loss')\n",
    "sns.lineplot(x=results.epoch, y=sigmoid_accuracy, ax=ax2, label='accuracy');"
   ]
  },
  {
   "cell_type": "markdown",
   "metadata": {},
   "source": [
    "If we increase the learning rate to a very high number, we see that our model overshoots the minimum, and starts bouncing all around."
   ]
  },
  {
   "cell_type": "code",
   "execution_count": 21,
   "metadata": {},
   "outputs": [
    {
     "name": "stdout",
     "output_type": "stream",
     "text": [
      "Epoch 1/30\n",
      "115/115 [==============================] - 0s 348us/step - loss: 0.4586 - accuracy: 0.7763\n",
      "Epoch 2/30\n",
      "115/115 [==============================] - 0s 348us/step - loss: 0.3240 - accuracy: 0.8634\n",
      "Epoch 3/30\n",
      "115/115 [==============================] - 0s 356us/step - loss: 0.2005 - accuracy: 0.9095\n",
      "Epoch 4/30\n",
      "115/115 [==============================] - 0s 348us/step - loss: 0.2002 - accuracy: 0.9156\n",
      "Epoch 5/30\n",
      "115/115 [==============================] - 0s 340us/step - loss: 0.1484 - accuracy: 0.9347\n",
      "Epoch 6/30\n",
      "115/115 [==============================] - 0s 361us/step - loss: 0.1206 - accuracy: 0.9504\n",
      "Epoch 7/30\n",
      "115/115 [==============================] - 0s 361us/step - loss: 0.1094 - accuracy: 0.9556\n",
      "Epoch 8/30\n",
      "115/115 [==============================] - 0s 357us/step - loss: 0.0942 - accuracy: 0.9652\n",
      "Epoch 9/30\n",
      "115/115 [==============================] - 0s 362us/step - loss: 0.1015 - accuracy: 0.9687\n",
      "Epoch 10/30\n",
      "115/115 [==============================] - 0s 365us/step - loss: 0.0727 - accuracy: 0.9748\n",
      "Epoch 11/30\n",
      "115/115 [==============================] - 0s 365us/step - loss: 0.0797 - accuracy: 0.9721\n",
      "Epoch 12/30\n",
      "115/115 [==============================] - 0s 357us/step - loss: 0.0788 - accuracy: 0.9721\n",
      "Epoch 13/30\n",
      "115/115 [==============================] - 0s 357us/step - loss: 0.0498 - accuracy: 0.9817\n",
      "Epoch 14/30\n",
      "115/115 [==============================] - 0s 365us/step - loss: 0.0807 - accuracy: 0.9713\n",
      "Epoch 15/30\n",
      "115/115 [==============================] - 0s 357us/step - loss: 0.0659 - accuracy: 0.9800\n",
      "Epoch 16/30\n",
      "115/115 [==============================] - 0s 365us/step - loss: 0.0486 - accuracy: 0.9887\n",
      "Epoch 17/30\n",
      "115/115 [==============================] - 0s 345us/step - loss: 0.0248 - accuracy: 0.9930\n",
      "Epoch 18/30\n",
      "115/115 [==============================] - 0s 340us/step - loss: 0.0369 - accuracy: 0.9887\n",
      "Epoch 19/30\n",
      "115/115 [==============================] - 0s 357us/step - loss: 0.0444 - accuracy: 0.9852\n",
      "Epoch 20/30\n",
      "115/115 [==============================] - 0s 353us/step - loss: 0.0420 - accuracy: 0.9878\n",
      "Epoch 21/30\n",
      "115/115 [==============================] - 0s 355us/step - loss: 0.0350 - accuracy: 0.9861\n",
      "Epoch 22/30\n",
      "115/115 [==============================] - 0s 344us/step - loss: 0.0225 - accuracy: 0.9930\n",
      "Epoch 23/30\n",
      "115/115 [==============================] - 0s 340us/step - loss: 0.0375 - accuracy: 0.9861\n",
      "Epoch 24/30\n",
      "115/115 [==============================] - 0s 348us/step - loss: 0.0219 - accuracy: 0.9948\n",
      "Epoch 25/30\n",
      "115/115 [==============================] - 0s 349us/step - loss: 0.0135 - accuracy: 0.9965\n",
      "Epoch 26/30\n",
      "115/115 [==============================] - 0s 365us/step - loss: 0.0117 - accuracy: 0.9965\n",
      "Epoch 27/30\n",
      "115/115 [==============================] - 0s 361us/step - loss: 0.0989 - accuracy: 0.9626\n",
      "Epoch 28/30\n",
      "115/115 [==============================] - 0s 356us/step - loss: 0.0731 - accuracy: 0.9721\n",
      "Epoch 29/30\n",
      "115/115 [==============================] - 0s 365us/step - loss: 0.0649 - accuracy: 0.9748\n",
      "Epoch 30/30\n",
      "115/115 [==============================] - 0s 365us/step - loss: 0.0641 - accuracy: 0.9748\n"
     ]
    },
    {
     "data": {
      "image/png": "[encoded data removed]",
      "text/plain": [
       "<Figure size 720x360 with 2 Axes>"
      ]
     },
     "metadata": {
      "needs_background": "light"
     },
     "output_type": "display_data"
    }
   ],
   "source": [
    "model = Sequential()\n",
    "\n",
    "sgd = SGD(lr=0.5)\n",
    "model.add(Dense(12, activation='relu', input_dim=64))\n",
    "model.add(Dense(8, activation='relu'))\n",
    "model.add(Dense(1, activation='sigmoid'))\n",
    "\n",
    "model.compile(optimizer=sgd,\n",
    "              loss='binary_crossentropy',\n",
    "              metrics=['accuracy'])\n",
    "\n",
    "results = model.fit(X_pure_train, y_pure_train,\n",
    "                    epochs=30, batch_size=10, verbose=1)\n",
    "\n",
    "relu_loss = results.history['loss']\n",
    "relu_accuracy = results.history['accuracy']\n",
    "\n",
    "fig, (ax1, ax2) = plt.subplots(1, 2, figsize=(10, 5))\n",
    "sns.lineplot(x=results.epoch, y=relu_loss, ax=ax1, label='loss')\n",
    "sns.lineplot(x=results.epoch, y=relu_accuracy, ax=ax2, label='accuracy');"
   ]
  },
  {
   "cell_type": "markdown",
   "metadata": {},
   "source": [
    "### Exercise\n",
    "\n",
    "We have been looking only at our training set. Let's add in our validation set to the picture. Check the docstring for the `.fit()` method and add in our validation data."
   ]
  },
  {
   "cell_type": "code",
   "execution_count": null,
   "metadata": {},
   "outputs": [],
   "source": [
    "model = Sequential()\n",
    "model.add(Dense(12, activation='relu', input_dim=64))\n",
    "model.add(Dense(8, activation='relu'))\n",
    "model.add(Dense(4, activation='relu'))\n",
    "model.add(Dense(1, activation='sigmoid'))\n",
    "\n",
    "model.compile(optimizer='adam',\n",
    "              loss='binary_crossentropy',\n",
    "              metrics=['accuracy'])\n",
    "\n",
    "\n",
    "## YOUR CODE HERE\n",
    "\n",
    "train_loss = results.history['loss']\n",
    "train_acc = results.history['accuracy']\n",
    "val_loss = results.history['val_loss']\n",
    "val_acc = results.history['val_accuracy']\n",
    "\n",
    "fig, (ax1, ax2) = plt.subplots(1, 2, figsize=(10, 5))\n",
    "sns.lineplot(x=results.epoch, y=train_loss, ax=ax1, label='train_loss')\n",
    "sns.lineplot(x=results.epoch, y=train_acc, ax=ax2, label='train_accuracy')\n",
    "\n",
    "sns.lineplot(x=results.epoch, y=val_loss, ax=ax1, label='val_loss')\n",
    "sns.lineplot(x=results.epoch, y=val_acc, ax=ax2, label='val_accuracy');"
   ]
  },
  {
   "cell_type": "code",
   "execution_count": null,
   "metadata": {},
   "outputs": [],
   "source": [
    "results.history['val_accuracy'][-1]"
   ]
  },
  {
   "cell_type": "markdown",
   "metadata": {},
   "source": [
    "## Connecting with `sklearn`\n",
    "\n",
    "The `keras.wrappers` submodule means that we can turn `keras` models into estimators that `sklearn` tools will recognize."
   ]
  },
  {
   "cell_type": "code",
   "execution_count": null,
   "metadata": {},
   "outputs": [],
   "source": [
    "# This will throw an error.\n",
    "\n",
    "cross_val_score(model, X_pure_train, y_pure_train)"
   ]
  },
  {
   "cell_type": "code",
   "execution_count": null,
   "metadata": {},
   "outputs": [],
   "source": [
    "def build_model():\n",
    "    model = Sequential()\n",
    "    model.add(Dense(12, activation='relu', input_dim=64))\n",
    "    model.add(Dense(8, activation='relu'))\n",
    "    model.add(Dense(4, activation='relu'))\n",
    "    model.add(Dense(1, activation = 'sigmoid'))\n",
    "\n",
    "    model.compile(optimizer='adam',\n",
    "                  loss='binary_crossentropy',\n",
    "                  metrics=['accuracy'])\n",
    "    return model"
   ]
  },
  {
   "cell_type": "code",
   "execution_count": null,
   "metadata": {},
   "outputs": [],
   "source": [
    "keras_model = scikit_learn.KerasClassifier(build_model,\n",
    "                                          epochs=50,\n",
    "                                          batch_size=32,\n",
    "                                          verbose=2)"
   ]
  },
  {
   "cell_type": "code",
   "execution_count": null,
   "metadata": {},
   "outputs": [],
   "source": [
    "type(keras_model)"
   ]
  },
  {
   "cell_type": "code",
   "execution_count": null,
   "metadata": {},
   "outputs": [],
   "source": [
    "cross_val_score(keras_model, X_pure_train, y_pure_train)"
   ]
  },
  {
   "cell_type": "markdown",
   "metadata": {},
   "source": [
    "## Regularization"
   ]
  },
  {
   "cell_type": "markdown",
   "metadata": {},
   "source": [
    "Does regularization make sense in the context of neural networks? <br/>\n",
    "\n",
    "Yes! We still have all of the salient ingredients: a loss function, overfitting vs. underfitting, and coefficients (weights) that could get too large.\n",
    "\n",
    "But there are now a few different flavors besides L1 and L2 regularization. (Note that L1 regularization is not common in the context of  neural networks.)\n",
    "\n",
    "We'll add a few more layers to give regularization a better chance of making a difference!"
   ]
  },
  {
   "cell_type": "code",
   "execution_count": 23,
   "metadata": {},
   "outputs": [
    {
     "data": {
      "image/png": "[encoded data removed]",
      "text/plain": [
       "<Figure size 720x360 with 2 Axes>"
      ]
     },
     "metadata": {
      "needs_background": "light"
     },
     "output_type": "display_data"
    }
   ],
   "source": [
    "model = Sequential()\n",
    "model.add(Dense(30, activation='relu', input_dim=64))\n",
    "\n",
    "# We can add L2 (or L1) regularization right into\n",
    "# the layer with the kernel_regularizer parameter.\n",
    "\n",
    "model.add(Dense(20, activation='relu',\n",
    "                kernel_regularizer=l2(l2=0.05)))\n",
    "\n",
    "# Note that there is also a bias_regularizer,\n",
    "# but this tends to have less effect.\n",
    "\n",
    "model.add(Dense(12, activation='relu'))\n",
    "model.add(Dense(12, activation='relu'))\n",
    "model.add(Dense(12, activation='relu'))\n",
    "model.add(Dense(8, activation='relu'))\n",
    "model.add(Dense(4, activation='relu'))\n",
    "model.add(Dense(1, activation ='sigmoid'))\n",
    "\n",
    "model.compile(optimizer='adam',\n",
    "              loss='binary_crossentropy',\n",
    "              metrics=['accuracy'])\n",
    "\n",
    "results = model.fit(X_pure_train, y_pure_train, epochs=20, batch_size=32,\n",
    "                    verbose=0, validation_data=(X_val, y_val))\n",
    "\n",
    "train_loss = results.history['loss']\n",
    "train_acc = results.history['accuracy']\n",
    "val_loss = results.history['val_loss']\n",
    "val_acc = results.history['val_accuracy']\n",
    "\n",
    "\n",
    "fig, (ax1, ax2) = plt.subplots(1, 2, figsize=(10, 5))\n",
    "sns.lineplot(x=results.epoch, y=train_loss, ax=ax1, label='train_loss')\n",
    "sns.lineplot(x=results.epoch, y=train_acc, ax=ax2, label='train_accuracy')\n",
    "\n",
    "sns.lineplot(x=results.epoch, y=val_loss, ax=ax1, label='val_loss')\n",
    "sns.lineplot(x=results.epoch, y=val_acc, ax=ax2, label='val_accuracy');"
   ]
  },
  {
   "cell_type": "markdown",
   "metadata": {},
   "source": [
    "Adding L2 to multiple layers:"
   ]
  },
  {
   "cell_type": "code",
   "execution_count": 22,
   "metadata": {},
   "outputs": [
    {
     "data": {
      "image/png": "[encoded data removed]",
      "text/plain": [
       "<Figure size 720x360 with 2 Axes>"
      ]
     },
     "metadata": {
      "needs_background": "light"
     },
     "output_type": "display_data"
    }
   ],
   "source": [
    "model = Sequential()\n",
    "model.add(Dense(30, activation='relu',\n",
    "                input_dim=64))\n",
    "model.add(Dense(20, activation='relu',\n",
    "                kernel_regularizer=l2(l2=0.01)))\n",
    "\n",
    "model.add(Dense(12, activation='relu',\n",
    "                kernel_regularizer=l2(l2=0.01)))\n",
    "model.add(Dense(12, activation='relu',\n",
    "                kernel_regularizer=l2(l2=0.01)))\n",
    "model.add(Dense(12, activation='relu',\n",
    "                kernel_regularizer=l2(l2=0.01)))\n",
    "model.add(Dense(8, activation='relu',\n",
    "                kernel_regularizer=l2(l2=0.01)))\n",
    "model.add(Dense(4, activation='relu',\n",
    "                kernel_regularizer=l2(l2=0.01)))\n",
    "model.add(Dense(1, activation='sigmoid'))\n",
    "\n",
    "model.compile(optimizer='adam',\n",
    "              loss='binary_crossentropy',\n",
    "              metrics=['accuracy'])\n",
    "\n",
    "results = model.fit(X_pure_train, y_pure_train, epochs=20, batch_size=32,\n",
    "                    verbose=0, validation_data=(X_val, y_val))\n",
    "\n",
    "train_loss = results.history['loss']\n",
    "train_acc = results.history['accuracy']\n",
    "val_loss = results.history['val_loss']\n",
    "val_acc = results.history['val_accuracy']\n",
    "\n",
    "\n",
    "fig, (ax1, ax2) = plt.subplots(1, 2, figsize=(10, 5))\n",
    "sns.lineplot(x=results.epoch, y=train_loss, ax=ax1, label='train_loss')\n",
    "sns.lineplot(x=results.epoch, y=train_acc, ax=ax2, label='train_accuracy')\n",
    "\n",
    "sns.lineplot(x=results.epoch, y=val_loss, ax=ax1, label='val_loss')\n",
    "sns.lineplot(x=results.epoch, y=val_acc, ax=ax2, label='val_accuracy');"
   ]
  },
  {
   "cell_type": "markdown",
   "metadata": {},
   "source": [
    "### Dropout\n",
    "\n",
    "We can also specify a dropout layer in keras, which randomly shuts off different nodes during training. This can help to prevent overfitting.\n",
    "\n",
    "![drop_out](images/drop_out.png)"
   ]
  },
  {
   "cell_type": "markdown",
   "metadata": {},
   "source": [
    "### Exercise\n",
    "\n",
    "To add dropout to a `keras` network, simply add it as though it were a layer. It will apply to the immediately preceding layer.\n",
    "\n",
    "Add Dropout to one or more layers below."
   ]
  },
  {
   "cell_type": "code",
   "execution_count": null,
   "metadata": {},
   "outputs": [],
   "source": [
    "model = Sequential()\n",
    "model.add(Dense(30, activation='relu', input_dim=64))\n",
    "model.add(Dense(20, activation='relu'))\n",
    "model.add(Dense(12, activation='relu'))\n",
    "model.add(Dense(12, activation='relu'))\n",
    "model.add(Dense(12, activation='relu'))\n",
    "model.add(Dense(8, activation='relu'))\n",
    "model.add(Dense(4, activation='relu'))\n",
    "model.add(Dense(1, activation ='sigmoid'))\n",
    "\n",
    "model.compile(optimizer='adam',\n",
    "              loss='binary_crossentropy',\n",
    "              metrics=['accuracy'])\n",
    "\n",
    "results = model.fit(X_pure_train, y_pure_train, epochs=50,\n",
    "                    batch_size= 32, verbose=0,\n",
    "                    validation_data=(X_val, y_val))\n",
    "\n",
    "train_loss = results.history['loss']\n",
    "train_acc = results.history['accuracy']\n",
    "val_loss = results.history['val_loss']\n",
    "val_acc = results.history['val_accuracy']\n",
    "\n",
    "\n",
    "fig, (ax1, ax2) = plt.subplots(1, 2, figsize=(10, 5))\n",
    "sns.lineplot(x=results.epoch, y=train_loss, ax=ax1, label='train_loss')\n",
    "sns.lineplot(x=results.epoch, y=train_acc, ax=ax2, label='train_accuracy')\n",
    "\n",
    "sns.lineplot(x=results.epoch, y=val_loss, ax=ax1, label='val_loss')\n",
    "sns.lineplot(x=results.epoch, y=val_acc, ax=ax2, label='val_accuracy');"
   ]
  },
  {
   "cell_type": "code",
   "execution_count": null,
   "metadata": {},
   "outputs": [],
   "source": [
    "results.history['val_accuracy'][-1]"
   ]
  },
  {
   "cell_type": "markdown",
   "metadata": {},
   "source": [
    "### Early Stopping"
   ]
  },
  {
   "cell_type": "markdown",
   "metadata": {},
   "source": [
    "We can also tell our neural network to stop once it stops realizing any gain.\n",
    "\n",
    "Here we tell it to stop once the a very small positive change in the validation loss occurs:"
   ]
  },
  {
   "cell_type": "code",
   "execution_count": null,
   "metadata": {},
   "outputs": [],
   "source": [
    "model = Sequential()\n",
    "model.add(Dense(30, activation='relu', input_dim=64))\n",
    "model.add(Dense(20, activation='relu'))\n",
    "model.add(Dropout(0.5))\n",
    "model.add(Dense(12, activation='relu'))\n",
    "model.add(Dense(12, activation='relu'))\n",
    "model.add(Dense(12, activation='relu'))\n",
    "model.add(Dense(8, activation='relu'))\n",
    "model.add(Dense(4, activation='relu'))\n",
    "model.add(Dense(1, activation ='sigmoid'))\n",
    "\n",
    "model.compile(optimizer='adam',\n",
    "              loss='binary_crossentropy',\n",
    "              metrics=['accuracy'])\n",
    "\n",
    "# Define the EarlyStopping object\n",
    "early_stop = EarlyStopping(monitor='val_loss', min_delta=1e-8,\n",
    "                           verbose=1,\n",
    "                           mode='min')\n",
    "\n",
    "# Place this in a list as the value of the `callbacks` parameter\n",
    "# in the `.fit()` method.\n",
    "results = model.fit(X_pure_train, y_pure_train,\n",
    "                    epochs=20, batch_size=32,\n",
    "                    verbose=0, validation_data=(X_val, y_val),\n",
    "                    callbacks=[early_stop])\n",
    "\n",
    "train_loss = results.history['loss']\n",
    "train_acc = results.history['accuracy']\n",
    "val_loss = results.history['val_loss']\n",
    "val_acc = results.history['val_accuracy']\n",
    "\n",
    "\n",
    "fig, (ax1, ax2) = plt.subplots(1, 2, figsize=(10, 5))\n",
    "sns.lineplot(x=results.epoch, y=train_loss, ax=ax1, label='train_loss')\n",
    "sns.lineplot(x=results.epoch, y=train_acc, ax=ax2, label='train_accuracy')\n",
    "\n",
    "sns.lineplot(x=results.epoch, y=val_loss, ax=ax1, label='val_loss')\n",
    "sns.lineplot(x=results.epoch, y=val_acc, ax=ax2, label='val_accuracy');"
   ]
  },
  {
   "cell_type": "markdown",
   "metadata": {},
   "source": [
    "### Exercise\n",
    "\n",
    "That probably stopped too early. We can specify the number of epochs in which it doesn't see decrease in the loss with the `patience` parameter. Modify the code below to include an Early Stop with a patience of 5 epochs."
   ]
  },
  {
   "cell_type": "code",
   "execution_count": null,
   "metadata": {},
   "outputs": [],
   "source": [
    "model = Sequential()\n",
    "model.add(Dense(30, activation='relu', input_dim=64))\n",
    "model.add(Dense(20, activation='relu'))\n",
    "model.add(Dropout(0.5))\n",
    "model.add(Dense(12, activation='relu'))\n",
    "model.add(Dense(12, activation='relu'))\n",
    "model.add(Dense(12, activation='relu'))\n",
    "model.add(Dense(8, activation='relu'))\n",
    "model.add(Dense(4, activation='relu'))\n",
    "model.add(Dense(1, activation ='sigmoid'))\n",
    "\n",
    "model.compile(optimizer='adam',\n",
    "              loss='binary_crossentropy',\n",
    "              metrics=['accuracy'])\n",
    "\n",
    "# Define the EarlyStopping object\n",
    "\n",
    "\n",
    "\n",
    "# Place this in a list as the value of the `callbacks` parameter\n",
    "# in the `.fit()` method.\n",
    "results = model.fit(X_pure_train, y_pure_train,\n",
    "                    epochs=50, batch_size= 32,\n",
    "                    verbose=0, validation_data=(X_val, y_val),\n",
    "                    callbacks=[early_stop])\n",
    "\n",
    "train_loss = results.history['loss']\n",
    "train_acc = results.history['accuracy']\n",
    "val_loss = results.history['val_loss']\n",
    "val_acc = results.history['val_accuracy']\n",
    "\n",
    "\n",
    "fig, (ax1, ax2) = plt.subplots(1, 2, figsize=(10, 5))\n",
    "sns.lineplot(x=results.epoch, y=train_loss, ax=ax1, label='train_loss')\n",
    "sns.lineplot(x=results.epoch, y=train_acc, ax=ax2, label='train_accuracy')\n",
    "\n",
    "sns.lineplot(x=results.epoch, y=val_loss, ax=ax1, label='val_loss')\n",
    "sns.lineplot(x=results.epoch, y=val_acc, ax=ax2, label='val_accuracy');"
   ]
  },
  {
   "cell_type": "code",
   "execution_count": null,
   "metadata": {},
   "outputs": [],
   "source": [
    "results.history['val_accuracy'][-1]"
   ]
  },
  {
   "cell_type": "markdown",
   "metadata": {},
   "source": [
    "## Multiclass Classification and Softmax"
   ]
  },
  {
   "cell_type": "markdown",
   "metadata": {},
   "source": [
    "Now let's return to the problem of predicting digits 0 through 9."
   ]
  },
  {
   "cell_type": "code",
   "execution_count": 24,
   "metadata": {},
   "outputs": [],
   "source": [
    "digits = load_digits()\n",
    "X = digits.data\n",
    "y = digits.target"
   ]
  },
  {
   "cell_type": "code",
   "execution_count": 25,
   "metadata": {},
   "outputs": [],
   "source": [
    "X_train, X_test, y_train, y_test = train_test_split(X, y,\n",
    "                                                    random_state=42,\n",
    "                                                    test_size=0.2)\n",
    "X_pure_train, X_val, y_pure_train, y_val =\\\n",
    "    train_test_split(X_train, y_train,\n",
    "                     random_state=42, test_size=0.2)\n",
    "X_pure_train, X_val, X_test = X_pure_train/16, X_val/16, X_test/16"
   ]
  },
  {
   "cell_type": "markdown",
   "metadata": {},
   "source": [
    "For a multiclass output, our neural net expects our target to be in a certain form."
   ]
  },
  {
   "cell_type": "code",
   "execution_count": 26,
   "metadata": {},
   "outputs": [],
   "source": [
    "ohe = OneHotEncoder(sparse=False)\n",
    "y_pure_train = ohe.fit_transform(y_pure_train.reshape(-1,1))\n",
    "y_val = ohe.transform(y_val.reshape(-1,1))\n",
    "y_test = ohe.transform(y_test.reshape(-1,1))"
   ]
  },
  {
   "cell_type": "code",
   "execution_count": 27,
   "metadata": {},
   "outputs": [
    {
     "data": {
      "text/plain": [
       "array([[0., 0., 0., ..., 0., 0., 0.],\n",
       "       [0., 0., 0., ..., 0., 0., 1.],\n",
       "       [0., 0., 0., ..., 0., 0., 0.],\n",
       "       ...,\n",
       "       [0., 0., 0., ..., 0., 1., 0.],\n",
       "       [0., 0., 0., ..., 0., 0., 0.],\n",
       "       [0., 0., 0., ..., 0., 0., 0.]])"
      ]
     },
     "execution_count": 27,
     "metadata": {},
     "output_type": "execute_result"
    }
   ],
   "source": [
    "y_test"
   ]
  },
  {
   "cell_type": "code",
   "execution_count": 28,
   "metadata": {},
   "outputs": [
    {
     "name": "stdout",
     "output_type": "stream",
     "text": [
      "Epoch 1/50\n",
      "  1/115 [..............................] - ETA: 0s - loss: 2.2601 - accuracy: 0.2000WARNING:tensorflow:Callbacks method `on_train_batch_begin` is slow compared to the batch time (batch time: 0.0000s vs `on_train_batch_begin` time: 0.0010s). Check your callbacks.\n",
      "115/115 [==============================] - 0s 1ms/step - loss: 2.2182 - accuracy: 0.2820 - val_loss: 2.0820 - val_accuracy: 0.3229\n",
      "Epoch 2/50\n",
      "115/115 [==============================] - 0s 552us/step - loss: 1.9108 - accuracy: 0.3716 - val_loss: 1.6821 - val_accuracy: 0.4514\n",
      "Epoch 3/50\n",
      "115/115 [==============================] - 0s 543us/step - loss: 1.4530 - accuracy: 0.5570 - val_loss: 1.2295 - val_accuracy: 0.6910\n",
      "Epoch 4/50\n",
      "115/115 [==============================] - 0s 543us/step - loss: 1.0250 - accuracy: 0.7389 - val_loss: 0.8655 - val_accuracy: 0.8125\n",
      "Epoch 5/50\n",
      "115/115 [==============================] - 0s 527us/step - loss: 0.7390 - accuracy: 0.8442 - val_loss: 0.6490 - val_accuracy: 0.8576\n",
      "Epoch 6/50\n",
      "115/115 [==============================] - 0s 535us/step - loss: 0.5698 - accuracy: 0.8764 - val_loss: 0.5447 - val_accuracy: 0.8681\n",
      "Epoch 7/50\n",
      "115/115 [==============================] - 0s 535us/step - loss: 0.4644 - accuracy: 0.8999 - val_loss: 0.4540 - val_accuracy: 0.8819\n",
      "Epoch 8/50\n",
      "115/115 [==============================] - 0s 527us/step - loss: 0.3974 - accuracy: 0.9051 - val_loss: 0.4053 - val_accuracy: 0.8958\n",
      "Epoch 9/50\n",
      "115/115 [==============================] - 0s 605us/step - loss: 0.3487 - accuracy: 0.9199 - val_loss: 0.3873 - val_accuracy: 0.8889\n",
      "Epoch 10/50\n",
      "115/115 [==============================] - 0s 726us/step - loss: 0.3149 - accuracy: 0.9269 - val_loss: 0.3514 - val_accuracy: 0.8924\n",
      "Epoch 11/50\n",
      "115/115 [==============================] - 0s 552us/step - loss: 0.2898 - accuracy: 0.9217 - val_loss: 0.3344 - val_accuracy: 0.8993\n",
      "Epoch 12/50\n",
      "115/115 [==============================] - 0s 569us/step - loss: 0.2669 - accuracy: 0.9347 - val_loss: 0.3078 - val_accuracy: 0.9028\n",
      "Epoch 13/50\n",
      "115/115 [==============================] - 0s 552us/step - loss: 0.2487 - accuracy: 0.9321 - val_loss: 0.2824 - val_accuracy: 0.9167\n",
      "Epoch 14/50\n",
      "115/115 [==============================] - 0s 552us/step - loss: 0.2331 - accuracy: 0.9417 - val_loss: 0.2776 - val_accuracy: 0.9167\n",
      "Epoch 15/50\n",
      "115/115 [==============================] - 0s 535us/step - loss: 0.2182 - accuracy: 0.9434 - val_loss: 0.2758 - val_accuracy: 0.9028\n",
      "Epoch 16/50\n",
      "115/115 [==============================] - 0s 535us/step - loss: 0.2066 - accuracy: 0.9513 - val_loss: 0.2564 - val_accuracy: 0.9306\n",
      "Epoch 17/50\n",
      "115/115 [==============================] - 0s 543us/step - loss: 0.1975 - accuracy: 0.9504 - val_loss: 0.2453 - val_accuracy: 0.9236\n",
      "Epoch 18/50\n",
      "115/115 [==============================] - 0s 523us/step - loss: 0.1882 - accuracy: 0.9513 - val_loss: 0.2510 - val_accuracy: 0.9236\n",
      "Epoch 19/50\n",
      "115/115 [==============================] - 0s 543us/step - loss: 0.1808 - accuracy: 0.9504 - val_loss: 0.2333 - val_accuracy: 0.9271\n",
      "Epoch 20/50\n",
      "115/115 [==============================] - 0s 527us/step - loss: 0.1723 - accuracy: 0.9582 - val_loss: 0.2249 - val_accuracy: 0.9236\n",
      "Epoch 21/50\n",
      "115/115 [==============================] - 0s 510us/step - loss: 0.1677 - accuracy: 0.9574 - val_loss: 0.2226 - val_accuracy: 0.9306\n",
      "Epoch 22/50\n",
      "115/115 [==============================] - 0s 540us/step - loss: 0.1597 - accuracy: 0.9643 - val_loss: 0.2065 - val_accuracy: 0.9236\n",
      "Epoch 23/50\n",
      "115/115 [==============================] - 0s 512us/step - loss: 0.1533 - accuracy: 0.9626 - val_loss: 0.2099 - val_accuracy: 0.9236\n",
      "Epoch 24/50\n",
      "115/115 [==============================] - 0s 544us/step - loss: 0.1468 - accuracy: 0.9582 - val_loss: 0.1975 - val_accuracy: 0.9236\n",
      "Epoch 25/50\n",
      "115/115 [==============================] - 0s 510us/step - loss: 0.1429 - accuracy: 0.9634 - val_loss: 0.2028 - val_accuracy: 0.9306\n",
      "Epoch 26/50\n",
      "115/115 [==============================] - 0s 535us/step - loss: 0.1350 - accuracy: 0.9678 - val_loss: 0.1946 - val_accuracy: 0.9306\n",
      "Epoch 27/50\n",
      "115/115 [==============================] - 0s 535us/step - loss: 0.1324 - accuracy: 0.9669 - val_loss: 0.1900 - val_accuracy: 0.9444\n",
      "Epoch 28/50\n",
      "115/115 [==============================] - 0s 535us/step - loss: 0.1283 - accuracy: 0.9652 - val_loss: 0.1909 - val_accuracy: 0.9306\n",
      "Epoch 29/50\n",
      "115/115 [==============================] - 0s 549us/step - loss: 0.1238 - accuracy: 0.9678 - val_loss: 0.1773 - val_accuracy: 0.9340\n",
      "Epoch 30/50\n",
      "115/115 [==============================] - 0s 518us/step - loss: 0.1207 - accuracy: 0.9678 - val_loss: 0.1800 - val_accuracy: 0.9271\n",
      "Epoch 31/50\n",
      "115/115 [==============================] - 0s 535us/step - loss: 0.1161 - accuracy: 0.9713 - val_loss: 0.1749 - val_accuracy: 0.9340\n",
      "Epoch 32/50\n",
      "115/115 [==============================] - 0s 543us/step - loss: 0.1163 - accuracy: 0.9669 - val_loss: 0.1911 - val_accuracy: 0.9306\n",
      "Epoch 33/50\n",
      "115/115 [==============================] - 0s 560us/step - loss: 0.1114 - accuracy: 0.9774 - val_loss: 0.1672 - val_accuracy: 0.9340\n",
      "Epoch 34/50\n",
      "115/115 [==============================] - 0s 560us/step - loss: 0.1073 - accuracy: 0.9739 - val_loss: 0.1730 - val_accuracy: 0.9271\n",
      "Epoch 35/50\n",
      "115/115 [==============================] - 0s 543us/step - loss: 0.1068 - accuracy: 0.9748 - val_loss: 0.1782 - val_accuracy: 0.9271\n",
      "Epoch 36/50\n",
      "115/115 [==============================] - 0s 530us/step - loss: 0.1017 - accuracy: 0.9765 - val_loss: 0.1638 - val_accuracy: 0.9306\n",
      "Epoch 37/50\n",
      "115/115 [==============================] - 0s 535us/step - loss: 0.0986 - accuracy: 0.9748 - val_loss: 0.1672 - val_accuracy: 0.9236\n",
      "Epoch 38/50\n",
      "115/115 [==============================] - 0s 523us/step - loss: 0.0965 - accuracy: 0.9748 - val_loss: 0.1689 - val_accuracy: 0.9340\n",
      "Epoch 39/50\n",
      "115/115 [==============================] - 0s 535us/step - loss: 0.0949 - accuracy: 0.9748 - val_loss: 0.1597 - val_accuracy: 0.9340\n",
      "Epoch 40/50\n",
      "115/115 [==============================] - 0s 521us/step - loss: 0.0929 - accuracy: 0.9791 - val_loss: 0.1677 - val_accuracy: 0.9340\n",
      "Epoch 41/50\n",
      "115/115 [==============================] - 0s 527us/step - loss: 0.0919 - accuracy: 0.9756 - val_loss: 0.1539 - val_accuracy: 0.9306\n",
      "Epoch 42/50\n",
      "115/115 [==============================] - 0s 518us/step - loss: 0.0884 - accuracy: 0.9791 - val_loss: 0.1562 - val_accuracy: 0.9375\n",
      "Epoch 43/50\n",
      "115/115 [==============================] - 0s 510us/step - loss: 0.0894 - accuracy: 0.9756 - val_loss: 0.1491 - val_accuracy: 0.9375\n",
      "Epoch 44/50\n",
      "115/115 [==============================] - 0s 518us/step - loss: 0.0823 - accuracy: 0.9791 - val_loss: 0.1461 - val_accuracy: 0.9410\n",
      "Epoch 45/50\n",
      "115/115 [==============================] - 0s 543us/step - loss: 0.0829 - accuracy: 0.9817 - val_loss: 0.1454 - val_accuracy: 0.9444\n",
      "Epoch 46/50\n",
      "115/115 [==============================] - 0s 557us/step - loss: 0.0808 - accuracy: 0.9800 - val_loss: 0.1569 - val_accuracy: 0.9340\n",
      "Epoch 47/50\n",
      "115/115 [==============================] - 0s 531us/step - loss: 0.0797 - accuracy: 0.9817 - val_loss: 0.1450 - val_accuracy: 0.9410\n",
      "Epoch 48/50\n",
      "115/115 [==============================] - 0s 518us/step - loss: 0.0765 - accuracy: 0.9843 - val_loss: 0.1725 - val_accuracy: 0.9236\n",
      "Epoch 49/50\n",
      "115/115 [==============================] - 0s 527us/step - loss: 0.0771 - accuracy: 0.9809 - val_loss: 0.1734 - val_accuracy: 0.9167\n",
      "Epoch 50/50\n",
      "115/115 [==============================] - 0s 560us/step - loss: 0.0779 - accuracy: 0.9809 - val_loss: 0.1369 - val_accuracy: 0.9479\n"
     ]
    }
   ],
   "source": [
    "# Model from above, but now with ten output neurons:\n",
    "\n",
    "model = Sequential()\n",
    "model.add(Dense(12, activation='relu', input_dim=64))\n",
    "model.add(Dense(8, activation='relu'))\n",
    "model.add(Dense(10, activation='softmax'))\n",
    "\n",
    "model.compile(optimizer='adam',\n",
    "              loss='categorical_crossentropy',\n",
    "              metrics=['accuracy'])\n",
    "\n",
    "results = model.fit(X_pure_train, y_pure_train,\n",
    "                   epochs=50, batch_size=10,\n",
    "                   validation_data=(X_val, y_val))"
   ]
  },
  {
   "cell_type": "markdown",
   "metadata": {},
   "source": [
    "$$\\large \\text{Softmax}(x_{i}) = \\frac{\\exp(x_i)}{\\sum_j \\exp(x_j)}$$\n",
    "\n",
    "The sofmax function outputs a number between 0 and 1 for each of our classes.  All of the probabilities of the classes sum up to 1.\n",
    "\n",
    "The number of nodes in our output layer equals the number of categories in our dataset.\n",
    "\n",
    "We also need a new loss function: **categorical crossentropy**, which calculates a separate loss for each label and then sums the results."
   ]
  },
  {
   "cell_type": "code",
   "execution_count": null,
   "metadata": {},
   "outputs": [],
   "source": [
    "history = results.history\n",
    "training_loss = history['loss']\n",
    "val_loss = history['val_loss']\n",
    "training_accuracy = history['accuracy']\n",
    "val_accuracy = history['val_accuracy']"
   ]
  },
  {
   "cell_type": "code",
   "execution_count": null,
   "metadata": {},
   "outputs": [],
   "source": [
    "fig, (ax1,ax2) = plt.subplots(1,2,figsize=(15,5))\n",
    "\n",
    "\n",
    "sns.lineplot(x=list(range(len(training_loss))),\n",
    "             y=training_loss, color='r', label='training', ax=ax1)\n",
    "sns.lineplot(x=list(range(len(val_loss))),\n",
    "             y=val_loss, color='b', label='validation', ax=ax1)\n",
    "sns.lineplot(x=list(range(len(training_loss))),\n",
    "             y=training_accuracy, color='r', label='training',ax=ax2)\n",
    "sns.lineplot(x=list(range(len(val_loss))),\n",
    "             y=val_accuracy, color='b', label='validation',ax=ax2)\n",
    "ax1.legend();"
   ]
  },
  {
   "cell_type": "code",
   "execution_count": null,
   "metadata": {},
   "outputs": [],
   "source": [
    "y_hat_test = np.argmax(model.predict(X_test), axis=-1)"
   ]
  },
  {
   "cell_type": "code",
   "execution_count": null,
   "metadata": {},
   "outputs": [],
   "source": [
    "y_test_restore = ohe.inverse_transform(y_test)\n",
    "confusion_matrix(y_test_restore, y_hat_test)"
   ]
  },
  {
   "cell_type": "markdown",
   "metadata": {},
   "source": [
    "Wow, look at that performance!  \n",
    "\n",
    "That is great, but remember, we were dealing with simple black and white images.  With color, our basic neural net will have less success.\n",
    "\n",
    "We will explore more advanced tools in the coming days.\n"
   ]
  },
  {
   "cell_type": "code",
   "execution_count": null,
   "metadata": {
    "colab_type": "text",
    "id": "EdZDyJfARV8l"
   },
   "outputs": [],
   "source": []
  }
 ],
 "metadata": {
  "celltoolbar": "Raw Cell Format",
  "colab": {
   "collapsed_sections": [],
   "name": "intro-to-keras.ipynb",
   "provenance": []
  },
  "kernelspec": {
   "display_name": "Python 3 (ipykernel)",
   "language": "python",
   "name": "python3"
  },
  "language_info": {
   "codemirror_mode": {
    "name": "ipython",
    "version": 3
   },
   "file_extension": ".py",
   "mimetype": "text/x-python",
   "name": "python",
   "nbconvert_exporter": "python",
   "pygments_lexer": "ipython3",
   "version": "3.8.12"
  }
 },
 "nbformat": 4,
 "nbformat_minor": 4
}
